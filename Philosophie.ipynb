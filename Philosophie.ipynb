{
 "cells": [
  {
   "cell_type": "code",
   "execution_count": 34,
   "metadata": {},
   "outputs": [],
   "source": [
    "import urllib\n",
    "import requests\n",
    "from bs4 import BeautifulSoup\n"
   ]
  },
  {
   "cell_type": "code",
   "execution_count": 35,
   "metadata": {},
   "outputs": [],
   "source": [
    "def find_first_link(page):\n",
    "    link = None\n",
    "    html = requests.get(page).text\n",
    "    soup = BeautifulSoup(html)\n",
    "    \n",
    "    # look for the first link among all paragraphs\n",
    "    paragraphs = soup.select('p')\n",
    "    for p in paragraphs:\n",
    "       if p.find(\"a\", recursive=True):\n",
    "            link = p.find(\"a\", recursive=True).get('href')\n",
    "            break\n",
    "            \n",
    "    if link:\n",
    "        link = urllib.parse.urljoin('https://en.wikipedia.org/', link)\n",
    "        \n",
    "    return link"
   ]
  },
  {
   "cell_type": "code",
   "execution_count": 36,
   "metadata": {},
   "outputs": [
    {
     "name": "stdout",
     "output_type": "stream",
     "text": [
      "Found ! Distance : 12\n"
     ]
    }
   ],
   "source": [
    "url_end = 'https://en.wikipedia.org/wiki/Philosophy'\n",
    "url_start = 'https://en.wikipedia.org/wiki/Mathematics'\n",
    "distance = 1\n",
    "distance_max = 100\n",
    "\n",
    "url = url_start;\n",
    "\n",
    "while distance < distance_max:\n",
    "    link = find_first_link(url)\n",
    "    if not link :\n",
    "        print(\"End of links reached, not found.\")\n",
    "        break\n",
    "    elif link == url_end :\n",
    "        print(\"Found ! Distance : \"+ str(distance))\n",
    "        break\n",
    "    elif distance >= distance_max :\n",
    "        print(\"Not found in the first \"+ str(distance_max) + \"links, give up.\")\n",
    "        break;\n",
    "    else :\n",
    "        distance = distance + 1\n",
    "        url = find_first_link(link)\n",
    "\n"
   ]
  },
  {
   "cell_type": "code",
   "execution_count": null,
   "metadata": {},
   "outputs": [],
   "source": []
  }
 ],
 "metadata": {
  "kernelspec": {
   "display_name": "Python 3",
   "language": "python",
   "name": "python3"
  },
  "language_info": {
   "codemirror_mode": {
    "name": "ipython",
    "version": 3
   },
   "file_extension": ".py",
   "mimetype": "text/x-python",
   "name": "python",
   "nbconvert_exporter": "python",
   "pygments_lexer": "ipython3",
   "version": "3.7.3"
  }
 },
 "nbformat": 4,
 "nbformat_minor": 2
}
