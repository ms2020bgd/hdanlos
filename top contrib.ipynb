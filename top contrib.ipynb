{
 "cells": [
  {
   "cell_type": "markdown",
   "metadata": {},
   "source": [
    "L'exercice pour le cours prochain est le suivant:\n",
    "\n",
    "- Récupérer via crawling la liste des 256 top contributors sur cette page https://gist.github.com/paulmillr/2657075\n",
    "- En utilisant l'API github (https://developer.github.com/v3/) récupérer pour chacun de ces users le nombre moyens de stars des repositories qui leur appartiennent. \n",
    "- Pour finir, classer ces 256 contributors par leur note moyenne.\n",
    "\n",
    "Comme l'API github dispose de restrictions d'accès (limitation du nombre de requêtes), vous aurez besoin de vous authentifier via un token: https://help.github.com/en/articles/creating-a-personal-access-token-for-the-command-line."
   ]
  },
  {
   "cell_type": "code",
   "execution_count": null,
   "metadata": {},
   "outputs": [
    {
     "name": "stdout",
     "output_type": "stream",
     "text": [
      "['fabpot', 'andrew', 'taylorotwell', 'egoist', 'HugoGiraudel', 'ornicar', 'bebraw', 'nelsonic', 'alexcrichton', 'jonathanong', 'mikermcneil', 'benbalter', 'jxnblk', 'yegor256', 'orta', 'rstacruz', 'GrahamCampbell', 'afc163', 'kamranahmedse', 'joshaber', 'bkeepers', 'kennethreitz', 'kytrinyx', 'STRML', 'atmos', 'weierophinney', 'agentzh', 'steipete', 'ai', 'mikepenz', 'nvie', 'hadley', 'appleboy', 'Rich-Harris', 'drnic', 'rafaelfranca', 'Ocramius', 'mitchellh', 'stof', 'IgorMinar', 'phodal', 'jwiegley', 'geerlingguy', 'dcramer', 'sebastianbergmann', 'brunocvcunha', 'ljharb', 'jdalton', 'sevilayha', 'paulmillr', 'tmm1', 'c9s', 'zcbenz', 'holman', 'kevinsawicki', 'yihui', 'buckyroberts', 'kbrsh', 'dmalan', 'mhevery', 'mgechev', 'kylef', 'chjj', 'ayende', 'mcollina', 'mdo', 'yoshuawuyts', 'muan', 'kentcdodds', 'jskeet', 'mitsuhiko', 'steveklabnik', 'hzoo', 'Caged', 'dlew', 'technoweenie', 'gaearon', 'soumith', 'feross', 'michalbe', 'brianleroux', 'willdurand', 'alexjlockwood', 'matsko', 'stefanpenner', 'adamwathan', 'Haacked', 'curran', 'rauchg', 'ianstormtaylor', 'KrauseFx', 'tj', 'jgm', 'jverkoey', 'chenglou', 'DataTables', 'SamyPesse', 'mjhea0', '0x00A', 'tmcw', 'brentvatne', 'carpedm20', 'benjamn', 'notwaldorf', 'miyagawa', 'rnystrom', 'photonstorm', 'mattn', 'dougwilson', 'JakeWharton', 'yyx990803', 'krzysztofzablocki', 'eduardolundgren', 'vjeux', 'mxcl', 'domenic', 'alex', 'mrdoob', 'josegonzalez', 'fzaninotto', 'pissang', 'jamesmontemagno', 'paulcbetts', 'paulirish', 'samdark', 'madskristensen', 'sokra', 'marijnh', 'alanhamlett', 'wesm', 'josevalim', 'jennybc', 'BurntSushi', 'zenorocha', 'contra', 'jaredhanson', 'radar', 'bevacqua', 'xudafeng', 'j2kun', 'dominictarr', 'avelino', 'vinta', 'developit', 'ashleygwilliams', 'ashfurrow', 'f', 'onevcat', 'toddmotto', 'gdi2290', 'EisenbergEffect', 'ankane', 'keijiro', 'nolimits4web', 'davidfowl', 'biezhi', 'LeaVerou', 'davidtmiller', 'odersky', 'vhf', 'soffes', 'mxstbr', 'Jinjiang', 'happypeter', 'yeasy', 'mafintosh', 'vczh', 'Draveness', 'ded', 'vladikoff', 'bnoordhuis', 'jendewalt', 'jessfraz', 'indutny', 'olivergierke', 'i5ting', 'laanwj', 'drakeet', 'thejameskyle', 'ahmetb', 'sdiehl', 'jaywcjlove', 'gitster', 'djspiewak', 'evilsocket', 'mariotaku', 'shama', 'CamDavidsonPilon', 'dsyer', 'winterbe', 'dennybritz', 'arun-gupta', 'maryrosecook', 'killme2008', 'IanLunn', 'ruanyf', 'binux', 'nfultz', 'leah', 'suissa', 'anishathalye', 'pkrumins', 'isaacs', 'staltz', 'KittenYang', 'leebyron', 'fengmk2', 'passy', 'gorhill', 'phuslu', 'mrmrs', 'siddontang', 'daylerees', 'weavejester', 'zce', 'philsturgeon', 'oldratlee', 'josephmisiti', 'atian25', 'ebidel', 'overtrue', 'connors', 'eliben', 'Seldaek', 'joyeecheung', 'bailicangdu', 'nikic', 'codahale', 'amitshekhariitbhu', 'rakyll', 'junyanz', 'simurai', 'nicolasgramlich', 'shiffman', 'purcell', 'evanphx', 'ericelliott', 'matyhtf', 'StephenGrider', 'AdamBien', 'rtomayko', 'tomchristie', 'be5invis', 'amueller', 'dead-horse', 'remy', 'Unknwon', 'jiyinyiyong', 'Shougo', 'arunoda', 'benoitc', 'ask', 'JohnSundell', 'Raynos', 'samuelclay', 'unicodeveloper']\n"
     ]
    }
   ],
   "source": [
    "import requests\n",
    "from bs4 import BeautifulSoup\n",
    "from multiprocessing import Pool\n",
    "from collections import OrderedDict\n",
    "\n",
    "url = \"https://gist.github.com/paulmillr/2657075\"\n",
    "\n",
    "token = \"a07ac90c0f7b6e8050cef798716a9f5e5137be98\"\n",
    "headers = {'Authorization': 'token ' + token}\n",
    "\n",
    "def get_soup_from_url(url):\n",
    "    res = requests.get(url)\n",
    "    soup = BeautifulSoup(res.content, 'html.parser')\n",
    "    return soup\n",
    "\n",
    "def get_top_contributors(url):\n",
    "    soup = get_soup_from_url(url)\n",
    "    contributors = []\n",
    "    # the contributor's table is the first table in the page\n",
    "    table = soup.find('tbody')\n",
    "    for table_entry in table.find_all('tr'):\n",
    "        user = table_entry.find('a').text\n",
    "        contributors.append(user)\n",
    "    return contributors\n",
    "\n",
    "def user_star_avg(user):\n",
    "    print(user)\n",
    "    stars = 0;\n",
    "    nb_repo = 0;\n",
    "    user_repos = requests.get('https://api.github.com/users/'+user+'/repos', headers=headers).json()\n",
    "    #print(user_repos)\n",
    "    for repo in user_repos:\n",
    "        #print(repo)\n",
    "        full_name = repo['full_name']\n",
    "        nb_repo = nb_repo + 1\n",
    "            # http://api.github.com/repos/[username]/[reponame]\n",
    "            # Consider \"stargazers_count\" field.\n",
    "        repo_info = requests.get('https://api.github.com/repos/'+full_name, headers=headers)\n",
    "        stars = stars + repo_info.json()['stargazers_count']\n",
    "            #print(full_name, stars)\n",
    "    if nb_repo > 0:\n",
    "        stars = stars / nb_repo\n",
    "    #star_avg[user] = stars\n",
    "    print(user, stars)\n",
    "    return user, stars\n",
    "\n",
    "def compute_star_avg(contributors):\n",
    "    \n",
    "    # Sequential version (slow):\n",
    "    #star_avg = [user_star_avg(user) for user in contributors]\n",
    "    \n",
    "    # Parallel version (faster ?):\n",
    "    p = Pool(processes=8)\n",
    "    star_avg = p.map(user_star_avg, contributors)\n",
    "        \n",
    "    return star_avg\n",
    "\n",
    "contributors = get_top_contributors(url)\n",
    "print(contributors)\n",
    "star_avg = compute_star_avg(contributors)\n",
    "print(star_avg)\n",
    "sorted_star_avg = OrderedDict(sorted(star_avg.items(), key=lambda t: t[1]))\n",
    "print(sorted_star_avg)\n",
    "\n",
    "\n",
    "    "
   ]
  },
  {
   "cell_type": "code",
   "execution_count": null,
   "metadata": {},
   "outputs": [],
   "source": []
  }
 ],
 "metadata": {
  "kernelspec": {
   "display_name": "Python 3",
   "language": "python",
   "name": "python3"
  },
  "language_info": {
   "codemirror_mode": {
    "name": "ipython",
    "version": 3
   },
   "file_extension": ".py",
   "mimetype": "text/x-python",
   "name": "python",
   "nbconvert_exporter": "python",
   "pygments_lexer": "ipython3",
   "version": "3.7.3"
  }
 },
 "nbformat": 4,
 "nbformat_minor": 2
}
